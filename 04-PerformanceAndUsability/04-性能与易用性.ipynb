{
 "cells": [
  {
   "cell_type": "markdown",
   "metadata": {},
   "source": [
    "# 4 性能与易用性\n",
    "\n",
    "性能更好的软件产品是为用户节省时间的产品。\n",
    "对于许多计算机用户来说，时间是宝贵的资源。很多时间浪费在了速度慢的，难以使用，不兼容或容易出错的软件上。\n",
    "所有这些问题都是可用性问题，我认为应该从更广泛的可用性角度来看待软件性能话题。\n",
    "\n",
    "这不是一本关于可用性的手册，但我认为有必要要让软件程序员的注意到一些常见障碍，导致用户难以有效使用软件。\n",
    "有关此主题的更多信息，请参阅我在Wikibooks上的免费电子书 [Usability for Nerds](https://en.wikibooks.org/wiki/Usability_for_Nerds)。\n",
    "\n",
    "以下列表指出了造成软件用户的一些典型挫折和时间浪费的原因，\n",
    "以及软件开发人员应该注意的重要可用性问题。"
   ]
  },
  {
   "cell_type": "markdown",
   "metadata": {},
   "source": [
    "- 大的运行时框架。\n",
    ".NET框架和Java虚拟机是通常比他们正在运行的程序占用更多资源的框架。\n",
    "这样的框架常常是资源问题和兼容性问题的原由，它们会在下面情况下浪费大量时间：\n",
    "  - 在安装框架本身时\n",
    "  - 在安装运行在框架下的程序期间\n",
    "  - 程序启动期间\n",
    "  - 以及程序运行期间。\n",
    "  \n",
    "&emsp;&emsp;使用这种运行时框架的主要原因是为了跨平台的可移植性。\n",
    "不幸的是，跨平台兼容性并不总是像预期的那样好。\n",
    "我相信，通过更好的编程语言，操作系统和API的标准化，可以更高效地实现可移植性。\n",
    "\n",
    "- 内存交换。\n",
    "软件开发人员通常拥有比最终用户拥有更强的计算机，更多的内存。\n",
    "因此，开发人员可能无法看到过度的内存交换和其他资源问题，以至于资源饥渴的应用程序对最终用户表现不佳。\n",
    "\n",
    "\n",
    "- 安装问题。\n",
    "程序的安装和卸载程序应该标准化，并由操作系统完成，而不是由单独的安装工具完成。\n",
    "\n",
    "\n",
    "- 自动更新。\n",
    "如果网络不稳定或者新版本引入新的问题，自动更新软件可能会导致问题。\n",
    "更新机制通常会用唠叨的弹出消息来打扰用户，会显示请安装这个重要的新更新，甚至在用户专注于重要工作时，要求用户重新启动计算机。\n",
    "更新机制不应该中断用户，而只该静静地显示一个图标，指示更新已经可用。\n",
    "抑或在计算机重新启动时自动更新。\n",
    "软件分销商经常滥用更新机制来宣传他们软件的新版本。这对用户来说很烦人。\n"
   ]
  },
  {
   "cell_type": "markdown",
   "metadata": {},
   "source": [
    "- Compatibility problems. All software should be tested on different platforms, different\n",
    "screen resolutions, different system color settings and different user access rights.\n",
    "Software should use standard API calls rather than self-styled hacks and direct\n",
    "hardware access. Available protocols and standardized file formats should be used.\n",
    "Web systems should be tested in different browsers, different platforms, different screen\n",
    "resolutions, etc. Accessibility guidelines should be obeyed.\n",
    "\n",
    "- Copy protection. Some copy protection schemes are based on hacks that violate or\n",
    "circumvent operating system standards. Such schemes are frequent sources of\n",
    "compatibility problems and system breakdown. Many copy protection schemes are\n",
    "based on hardware identification. Such schemes cause problems when the hardware is\n",
    "updated. Most copy protection schemes are annoying to the user and prevent legitimate\n",
    "backup copying without effectively preventing illegitimate copying. The benefits of a\n",
    "copy protection scheme should be weighed against the costs in terms of usability\n",
    "problems and necessary support.\n",
    "\n",
    "- Hardware updating. The change of a hard disk or other hardware often requires that all\n",
    "software be reinstalled and user settings are lost. It is not unusual for the reinstallation\n",
    "work to take a whole workday or more. Many software applications need better backup\n",
    "features, and current operating systems need better support for hard disk copying.\n",
    "\n",
    "- Security. The vulnerability of software with network access to virus attacks and other\n",
    "abuse is extremely costly to many users. Firewalls, virus scanners and other protection\n",
    "means are among the most frequent causes of compatibility problems and system\n",
    "crash. Furthermore, it is not uncommon for virus scanners to consume more time than\n",
    "anything else on a computer. Security software that is part of the operating system is\n",
    "often more reliable than third party security software.\n",
    "\n",
    "- Background services. Many services that run in the background are unnecessary for the\n",
    "user and a waste of resources. Consider running the services only when activated by\n",
    "the user.\n",
    "\n",
    "- Feature bloat. It is common for software to add new features to each new version for\n",
    "marketing reasons. This may cause the software to be slower or require more\n",
    "resources, even if the user never uses the new features.\n",
    "\n",
    "- Take user feedback seriously. User complaints should be regarded as a valuable source\n",
    "of information about bugs, compatibility problems, usability problems and desired new\n",
    "features. User feedback should be handled in a systematic manner to make sure the\n",
    "information is utilized appropriately. Users should get a reply about investigation of the\n",
    "problems and planned solutions. Patches should be easily available from a website.\n"
   ]
  }
 ],
 "metadata": {
  "kernelspec": {
   "display_name": "C++17",
   "language": "C++",
   "name": "cling-cpp17"
  },
  "language_info": {
   "codemirror_mode": "c++",
   "file_extension": ".c++",
   "mimetype": "text/x-c++src",
   "name": "c++"
  }
 },
 "nbformat": 4,
 "nbformat_minor": 2
}
