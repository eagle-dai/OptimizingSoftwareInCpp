{
 "cells": [
  {
   "cell_type": "markdown",
   "metadata": {},
   "source": [
    "# 6 开发流程\n",
    "\n",
    "There is a considerable debate about which software development process and software\n",
    "engineering principles to use. I am not going to recommend any specific model. Instead, I\n",
    "will make a few comments about how the development process can influence the\n",
    "performance of the final product.\n",
    "\n",
    "It is good to do a thorough analysis of the data structure, data flow and algorithms in the\n",
    "planning phase in order to predict which resources are most critical. However, there may be\n",
    "so many unknown factors in the early planning stage that a detailed overview of the problem\n",
    "cannot easily be obtained. In the latter case, you may view the software development work\n",
    "as a learning process where the main feedback comes from testing. Here, you should be\n",
    "prepared for several iterations of redesign.\n",
    "\n",
    "Some software development models have a strict formalism that requires several layers of\n",
    "abstraction in the logical architecture of the software. You should be aware that there are\n",
    "inherent performance costs to such a formalism. The splitting of software into an excessive\n",
    "number of separate layers of abstraction is a common cause of reduced performance.\n",
    "\n",
    "Since most development methods are incremental or iterative in nature, it is important to\n",
    "have a strategy for saving a backup copy of every intermediate version. For one-man\n",
    "projects, it is sufficient to make a zip file of every version. For team projects, it is\n",
    "recommended to use a version control tool.\n"
   ]
  }
 ],
 "metadata": {
  "kernelspec": {
   "display_name": "C++17",
   "language": "C++",
   "name": "cling-cpp17"
  },
  "language_info": {
   "codemirror_mode": "c++",
   "file_extension": ".c++",
   "mimetype": "text/x-c++src",
   "name": "c++"
  }
 },
 "nbformat": 4,
 "nbformat_minor": 2
}
