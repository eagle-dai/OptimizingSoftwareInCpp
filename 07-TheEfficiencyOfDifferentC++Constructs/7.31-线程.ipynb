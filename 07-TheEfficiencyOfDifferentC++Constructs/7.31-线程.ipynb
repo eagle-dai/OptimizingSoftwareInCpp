{
 "cells": [
  {
   "cell_type": "markdown",
   "metadata": {},
   "source": [
    "## 7.31 Threads\n",
    "\n",
    "Threads are used for doing two or more jobs simultaneously or seemingly simultaneously. If\n",
    "the computer has only one CPU core then it is not possible to do two jobs simultaneously.\n",
    "Each thread will get time slices of typically 30 ms for foreground jobs and 10 ms for\n",
    "background jobs. The context switches after each time slice are quite costly because all\n",
    "caches have to adapt to the new context. It is possible to reduce the number of context\n",
    "switches by making longer time slices. This will make applications run faster at the cost of\n",
    "longer response times for user input. (In Windows you can increase the time slices to 120\n",
    "ms by selecting optimize performance for background services under advanced system\n",
    "performance options. I don't know if this is possible in Linux).\n",
    "\n",
    "Threads are useful for assigning different priorities to different tasks. For example, in a word\n",
    "processor the user expects an immediate response to pressing a key or moving the mouse.\n",
    "This task must have a high priority. Other tasks such as spell-checking and repagination are\n",
    "running in other threads with lower priority. If the different tasks were not divided into\n",
    "threads with different priorities then the user might experience unacceptably long response\n",
    "times to keyboard and mouse inputs when the program is busy doing the spell checking.\n",
    "\n",
    "Any task that takes a long time, such as heavy mathematical calculations, should be\n",
    "scheduled in a separate thread if the application has a graphical user interface. Otherwise\n",
    "the program will be unable to respond quickly to keyboard or mouse input.\n",
    "\n",
    "It is possible to make a thread-like scheduling in an application program without invoking the\n",
    "overhead of the operating system thread scheduler. This can be accomplished by doing the\n",
    "heavy background calculations piece by piece in a function that is called from the message\n",
    "loop of a graphical user interface (OnIdle in Windows MFC). This method may be faster\n",
    "than making a separate thread in systems with only one CPU core, but it requires that the\n",
    "background job can be divided into small pieces of a suitable duration.\n",
    "\n",
    "The best way to fully utilize systems with multiple CPU cores is to divide the job into multiple\n",
    "threads. Each thread can then run on its own CPU core.\n"
   ]
  },
  {
   "cell_type": "markdown",
   "metadata": {},
   "source": [
    "There are four kinds of costs to multithreading that we have to take into account when\n",
    "optimizing multithreaded applications:\n",
    "\n",
    "- The cost of starting and stopping threads. Don't put a task into a separate thread if it\n",
    "is short in duration compared with the time it takes to start and stop the thread.\n",
    "- The cost of task switching. This cost is minimized if the number of threads with the\n",
    "same priority is no more than the number of CPU cores.\n",
    "- The cost of synchronizing and communicating between threads. The overhead of\n",
    "semaphores, mutexes, etc. is considerable. If two threads are often waiting for each\n",
    "other in order to get access to the same resource then it may be better to join them\n",
    "into one thread. A variable that is shared between multiple threads must be declared\n",
    "volatile. This prevents the compiler from doing optimizations on that variable.\n",
    "- The different threads need separate storage. No function or class that is used by\n",
    "multiple threads should rely on static or global variables. (See thread-local storage p.\n",
    "28) The threads have each their stack. This can cause cache contentions if the\n",
    "threads share the same cache.\n",
    "\n",
    "Multithreaded programs must use thread-safe functions. A thread-safe function should\n",
    "never use static variables.\n",
    "\n",
    "See chapter 10 page 103 for further discussion of the techniques of multithreading."
   ]
  }
 ],
 "metadata": {
  "kernelspec": {
   "display_name": "Python 3",
   "language": "python",
   "name": "python3"
  },
  "language_info": {
   "codemirror_mode": {
    "name": "ipython",
    "version": 3
   },
   "file_extension": ".py",
   "mimetype": "text/x-python",
   "name": "python",
   "nbconvert_exporter": "python",
   "pygments_lexer": "ipython3",
   "version": "3.6.5"
  }
 },
 "nbformat": 4,
 "nbformat_minor": 2
}
