{
 "cells": [
  {
   "cell_type": "markdown",
   "metadata": {},
   "source": [
    "# 不同的C++构建体的效率\n",
    "\n",
    "大多数程序员很少或根本不知道，一段程序代码是怎么样被翻译成机器代码的，也不知道微处理器是如何处理这些代码的。\n",
    "例如，许多程序员不知道双精度计算的速度与单精度一样快。\n",
    "谁会知道模板类比多态类更有效率？\n",
    "\n",
    "本章旨在解释不同C++语言元素的效率相对高低，以帮助程序员选择最有效的方案。\n",
    "本系列的其它手册中会进一步解释相关的理论背景。"
   ]
  }
 ],
 "metadata": {
  "kernelspec": {
   "display_name": "C++17",
   "language": "C++",
   "name": "cling-cpp17"
  },
  "language_info": {
   "codemirror_mode": "c++",
   "file_extension": ".c++",
   "mimetype": "text/x-c++src",
   "name": "c++"
  }
 },
 "nbformat": 4,
 "nbformat_minor": 2
}
