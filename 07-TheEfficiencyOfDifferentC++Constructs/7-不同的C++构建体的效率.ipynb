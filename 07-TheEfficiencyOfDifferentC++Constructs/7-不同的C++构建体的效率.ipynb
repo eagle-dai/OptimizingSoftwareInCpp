{
 "cells": [
  {
   "cell_type": "markdown",
   "metadata": {},
   "source": [
    "# 不同的C++构建体的效率\n",
    "\n",
    "Most programmers have little or no idea how a piece of program code is translated into\n",
    "machine code and how the microprocessor handles this code. For example, many\n",
    "programmers do not know that double precision calculations are just as fast as single\n",
    "precision. And who would know that a template class is more efficient than a polymorphous\n",
    "class?\n",
    "\n",
    "This chapter is aiming at explaining the relative efficiency of different C++ language\n",
    "elements in order to help the programmer choosing the most efficient alternative. The\n",
    "theoretical background is further explained in the other volumes in this series of manuals."
   ]
  }
 ],
 "metadata": {
  "kernelspec": {
   "display_name": "C++17",
   "language": "C++",
   "name": "cling-cpp17"
  },
  "language_info": {
   "codemirror_mode": "c++",
   "file_extension": ".c++",
   "mimetype": "text/x-c++src",
   "name": "c++"
  }
 },
 "nbformat": 4,
 "nbformat_minor": 2
}
