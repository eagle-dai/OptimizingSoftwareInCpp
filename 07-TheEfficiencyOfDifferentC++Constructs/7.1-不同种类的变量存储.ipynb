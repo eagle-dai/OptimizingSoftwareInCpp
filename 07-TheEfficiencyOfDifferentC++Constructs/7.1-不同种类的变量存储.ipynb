{
 "cells": [
  {
   "cell_type": "markdown",
   "metadata": {},
   "source": [
    "## 7.1 不同种类的变量存储\n",
    "\n",
    "Variables and objects are stored in different parts of the memory, depending on how they\n",
    "are declared in a C++ program. This has influence on the efficiency of the data cache (see\n",
    "page 89). Data caching is poor if data are scattered randomly around in the memory. It is\n",
    "therefore important to understand how variables are stored. The storage principles are the\n",
    "same for simple variables, arrays and objects."
   ]
  },
  {
   "cell_type": "markdown",
   "metadata": {},
   "source": [
    "### Storage on the stack\n",
    "\n",
    "Variables and objects declared inside a function are stored on the stack, except for the\n",
    "cases described in the sections below.\n",
    "\n",
    "The stack is a part of memory that is organized in a first-in-last-out fashion. It is used for\n",
    "storing function return addresses (i.e. where the function was called from), function\n",
    "parameters, local variables, and for saving registers that have to be restored before the\n",
    "function returns. Every time a function is called, it allocates the required amount of space on\n",
    "the stack for all these purposes. This memory space is freed when the function returns. The\n",
    "next time a function is called, it can use the same space for the parameters of the new\n",
    "function.\n",
    "\n",
    "The stack is the most efficient memory space to store data because the same range of\n",
    "memory addresses is reused again and again. If there are no big arrays, then it is almost\n",
    "certain that this part of the memory is mirrored in the level-1 data cache, where it is\n",
    "accessed quite fast.\n",
    "\n",
    "The lesson we can learn from this is that all variables and objects should preferably be\n",
    "declared inside the function in which they are used.\n",
    "\n",
    "It is possible to make the scope of a variable even smaller by declaring it inside {} brackets.\n",
    "However, most compilers do not free the memory used by a variable until the function\n",
    "returns even though it could free the memory when exiting the {} brackets in which the\n",
    "variable is declared. If the variable is stored in a register (see below) then it may be freed\n",
    "before the function returns."
   ]
  },
  {
   "cell_type": "markdown",
   "metadata": {},
   "source": [
    "### Global or static storage\n",
    "\n",
    "Variables that are declared outside of any function are called global variables. They can be\n",
    "accessed from any function. Global variables are stored in a `static` part of the memory. The\n",
    "static memory is also used for variables declared with the static keyword, for floating point constants, string constants, array initializer lists, `switch` statement jump tables, and\n",
    "virtual function tables.\n",
    "\n",
    "The static data area is usually divided into three parts: one for constants that are never\n",
    "modified by the program, one for initialized variables that may be modified by the program,\n",
    "and one for uninitialized variables that may be modified by the program.\n",
    "\n",
    "The advantage of static data is that it can be initialized to desired values before the program\n",
    "starts. The disadvantage is that the memory space is occupied throughout the whole\n",
    "program execution, even if the variable is only used in a small part of the program. This\n",
    "makes data caching less efficient.\n",
    "\n",
    "Do not make variables global if you can avoid it. Global variables may be needed for\n",
    "communication between different threads, but that's about the only situation where they are\n",
    "unavoidable. It may be useful to make a variable global if it is accessed by several different\n",
    "functions and you want to avoid the overhead of transferring the variable as function\n",
    "parameter. But it may be a better solution to make the functions that access the saved\n",
    "variable members of the same class and store the shared variable inside the class. Which\n",
    "solution you prefer is a matter of programming style.\n"
   ]
  }
 ],
 "metadata": {
  "kernelspec": {
   "display_name": "C++17",
   "language": "C++",
   "name": "cling-cpp17"
  },
  "language_info": {
   "codemirror_mode": "c++",
   "file_extension": ".c++",
   "mimetype": "text/x-c++src",
   "name": "c++"
  }
 },
 "nbformat": 4,
 "nbformat_minor": 2
}
