{
 "cells": [
  {
   "cell_type": "markdown",
   "metadata": {},
   "source": [
    "## 7.26 联合（Unions）\n",
    "\n",
    "联合是一种数据成员共享相同内存空间的数据结构。\n",
    "通过允许两个从不同时使用的数据成员共享同一块内存，可以使用联合来节省内存空间。\n",
    "有关示例，请参见第91页。\n",
    "\n",
    "**联合也可用于以不同方式访问相同数据**。例如：\n",
    "```cpp\n",
    "// Example 7.43\n",
    "union {\n",
    "   float f;\n",
    "   int i;\n",
    "} x;\n",
    "x.f = 2.0f;\n",
    "x.i |= 0x80000000; // 设置符号位\n",
    "cout << x.f; // 会输出 -2.0\n",
    "```\n",
    "\n",
    "在此示例中，`f`的符号位通过使用或运算符来设置。该运算符只能用在整数。\n"
   ]
  },
  {
   "cell_type": "markdown",
   "metadata": {},
   "source": [
    "## 7.27 位字段（Bitfields）\n",
    "\n",
    "位字段可能有助于使数据更紧凑。\n",
    "访问位字段的成员比访问结构的普通成员效率低一些。\n",
    "对于大型数组，由于可以节省缓存空间或缩小文件，那么该额外的时间可能是合理的。\n",
    "**通过使用`<<`和`|`来进行位写操作，比向独立的位字段成员写操作更快。**\n",
    "例如：\n",
    "\n",
    "```cpp\n",
    "// Example 7.44a\n",
    "struct Bitfield {\n",
    "   int a:4;\n",
    "   int b:2;\n",
    "   int c:2;\n",
    "};\n",
    "Bitfield x;\n",
    "int A, B, C;\n",
    "x.a = A;\n",
    "x.b = B;\n",
    "x.c = C;\n",
    "```\n",
    "\n",
    "假设`A`，`B`和`C`的值很小，绝对不会溢出，可以通过以下方式改进此代码：\n",
    "```cpp\n",
    "// Example 7.44b\n",
    "union Bitfield {\n",
    "   struct {\n",
    "      int a:4;\n",
    "      int b:2;\n",
    "      int c:2;\n",
    "   };\n",
    "   char abc;\n",
    "};\n",
    "Bitfield x;\n",
    "int A, B, C;\n",
    "x.abc = A | (B << 4) | (C << 6);\n",
    "```\n",
    "或者，如果需要防止溢出：\n",
    "```cpp\n",
    "// Example 7.44c\n",
    "x.abc = (A & 0x0F) | ((B & 3) << 4) | ((C & 3) <<6 );\n",
    "```"
   ]
  },
  {
   "cell_type": "markdown",
   "metadata": {},
   "source": [
    "## 7.28 函数重载\n",
    "\n",
    "重载函数的不同版本被简单地视为不同的函数。使用重载函数不会有性能损失。"
   ]
  },
  {
   "cell_type": "markdown",
   "metadata": {},
   "source": [
    "## 7.29 运算符重载\n",
    "\n",
    "重载运算符等效于函数。使用重载运算符与使用执行相同操作的函数完全效率相同。\n",
    "\n",
    "具有多个重载运算符的表达式会为中间结果创建临时对象，这可能是不期望发生的。例如：\n",
    "\n",
    "```cpp\n",
    "// Example 7.45a\n",
    "class vector { // 2-dimensional vector\n",
    "public:\n",
    "   float x, y; // x,y coordinates\n",
    "   vector() {} // default constructor\n",
    "   vector(float a, float b) {x = a; y = b;} // constructor\n",
    "   vector operator + (vector const & a) { // sum operator\n",
    "      return vector(x + a.x, y + a.y); // add elements\n",
    "   }\n",
    "};\n",
    "vector a, b, c, d;\n",
    "a = b + c + d; // makes intermediate object for (b + c)\n",
    "```\n",
    "\n",
    "通过以下操作，可以避免为中间结果（`b + c`）创建临时对象：\n",
    "\n",
    "```cpp\n",
    "// Example 7.45b\n",
    "a.x = b.x + c.x + d.x;\n",
    "a.y = b.y + c.y + d.y;\n",
    "```\n",
    "幸运的是，在简单的情况下，大多数编译器会自动执行此优化。\n"
   ]
  }
 ],
 "metadata": {
  "kernelspec": {
   "display_name": "Python 3",
   "language": "python",
   "name": "python3"
  },
  "language_info": {
   "codemirror_mode": {
    "name": "ipython",
    "version": 3
   },
   "file_extension": ".py",
   "mimetype": "text/x-python",
   "name": "python",
   "nbconvert_exporter": "python",
   "pygments_lexer": "ipython3",
   "version": "3.6.7"
  }
 },
 "nbformat": 4,
 "nbformat_minor": 2
}
