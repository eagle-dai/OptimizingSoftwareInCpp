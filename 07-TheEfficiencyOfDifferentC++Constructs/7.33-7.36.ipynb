{
 "cells": [
  {
   "cell_type": "markdown",
   "metadata": {},
   "source": [
    "## 7.32 栈展开的其它情况\n",
    "\n",
    "The preceding paragraph described a mechanism called stack unwinding that is used by\n",
    "exception handlers for cleaning up and calling any necessary destructors after jumping out\n",
    "of a function in case of an exception without using the normal return route. This mechanism\n",
    "is also used in two other situations:\n",
    "\n",
    "The stack unwinding mechanism may be used when a thread is terminated. The purpose is\n",
    "to detect if any objects declared in the thread have a destructor that needs to be called. It is\n",
    "recommended to return from functions that require cleanup before terminating a thread. You\n",
    "cannot be certain that a call to _endthread() cleans up the stack. This behaviour is\n",
    "implementation dependent.\n",
    "\n",
    "The stack unwinding mechanism is also used when the function longjmp is used for\n",
    "jumping out of a function. Avoid the use of longjmp if possible. Do not rely on longjmp in\n",
    "time-critical code."
   ]
  },
  {
   "cell_type": "markdown",
   "metadata": {},
   "source": [
    "## 7.34 Propagation of NAN and INF\n",
    "\n",
    "Floating point errors will propagate to the end result of a series of calculations in most\n",
    "cases. This is a very efficient alternative to exceptions and fault trapping.\n",
    "\n",
    "Floating point overflow and division by zero gives infinity. If you add or multiply infinity with\n",
    "something you get infinity as a result. The INF code may propagate to the end result in this\n",
    "way. However, not all operations with INF input will give INF as a result. If you divide a\n",
    "normal number by INF you get zero. The special cases INF-INF and INF/INF give NAN (nota-number). The special code NAN also occurs when you divide zero by zero and when the\n",
    "input of a function is out of range, such as sqrt(-1) and log(-1).\n",
    "\n",
    "Most operations with a NAN input will give a NAN output, so that the NAN will propagate to\n",
    "the end result. This is a simple and efficient way of detecting floating point errors. Almost all\n",
    "floating point errors will propagate to the end result where they appear as INF or NAN. If\n",
    "you print out the results, you will see INF or NAN instead of a number. No extra code is\n",
    "needed to keep track of the errors, and there is no extra cost to the propagation of INF and\n",
    "NAN.\n",
    "\n",
    "A NAN can contain a payload with extra information. A function library can put an error code\n",
    "into this payload in case of an error, and this payload will propagate to the end result.\n",
    "\n",
    "The function finite() will return false when the parameter is INF or NAN, and true if it is a\n",
    "normal floating point number. This can be used for detecting errors before a floating point\n",
    "number is converted to an integer and in other cases where we want to check for errors.\n",
    "\n",
    "The details of INF and NAN propagation are further explained in the document \"NAN\n",
    "propagation versus fault trapping in floating point code\" at\n",
    "www.agner.org/optimize/nan_propagation.pdf. This document also discusses situations\n",
    "where the propagation of INF and NAN fails, as well as compiler optimization options that\n",
    "influence the propagation of these codes.\n"
   ]
  },
  {
   "cell_type": "markdown",
   "metadata": {},
   "source": [
    "## 7.35 Preprocessing directives\n",
    "\n",
    "Preprocessing directives (everything that begins with #) are costless in terms of program\n",
    "performance because they are resolved before the program is compiled.\n",
    "\n",
    "#if directives are useful for supporting multiple platforms or multiple configurations with the\n",
    "same source code. #if is more efficient than if because #if is resolved at compile time\n",
    "while if is resolved at runtime.\n",
    "\n",
    "#define directives are equivalent to const definitions when used for defining constants.\n",
    "For example, #define ABC 123 and const int ABC = 123; are equally efficient\n",
    "because, in most cases, an optimizing compiler can replace an integer constant with its\n",
    "value. However, the const int declaration may in some cases take memory space \n",
    "where a #define directive never takes memory space. A floating point constant always\n",
    "takes memory space, even when it has not been given a name.\n",
    "\n",
    "#define directives when used as macros are sometimes more efficient than functions.\n",
    "See page 48 for a discussion."
   ]
  },
  {
   "cell_type": "markdown",
   "metadata": {},
   "source": [
    "## 7.36 Namespaces\n",
    "There is no cost in terms of execution speed to using namespaces."
   ]
  }
 ],
 "metadata": {
  "interpreter": {
   "hash": "a14051f21a11444245b2f4ecda18756d21687dd3b2165409207c8164cdeb73d9"
  },
  "kernelspec": {
   "display_name": "Python 3.9.9 64-bit (windows store)",
   "language": "python",
   "name": "python3"
  },
  "language_info": {
   "name": "python",
   "version": "3.9.9"
  },
  "orig_nbformat": 4
 },
 "nbformat": 4,
 "nbformat_minor": 2
}
