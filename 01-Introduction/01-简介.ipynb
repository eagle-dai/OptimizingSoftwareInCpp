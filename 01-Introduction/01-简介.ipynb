{
 "cells": [
  {
   "cell_type": "markdown",
   "metadata": {},
   "source": [
    "# 简介\n",
    "该手册是写给高级程序员，以及那些想让软件运行得更快的开发者们。手册假定读者具备良好的C++编程知识，并对编译器的工作方式具有一定的了解。C++语言被选择来作为手册的基础，原因在稍后（原文第8页）给出。\n",
    "\n",
    "手册主要基于作者本人对编译器和微处理器方面的研究工作。给出的建议是基于Intel, AMD and VIA的微处理器的x86系列，包括64位版本。x86处理器广泛应用于indows, Linux, BSD and Mac OS X操作系统。当然这些操作系统也可以基于其它的处理器。这里很多建议也适用于其它平台，其它编程语言。"
   ]
  },
  {
   "cell_type": "markdown",
   "metadata": {},
   "source": [
    "本手册是五大技术手册系列的第一本。分别是：\n",
    "1. Optimizing software in C++: An optimization guide for Windows, Linux and Mac platforms.\n",
    "- Optimizing subroutines in assembly language: An optimization guide for x86 platforms.\n",
    "- The microarchitecture of Intel, AMD and VIA CPUs: An optimization guide for assembly programmers and compiler makers.\n",
    "- Instruction tables: Lists of instruction latencies, throughputs and micro-operation breakdowns for Intel, AMD and VIA CPUs.\n",
    "- Calling conventions for different C++ compilers and operating systems.\n",
    "\n",
    "这些手册的最终版本可以在www.agner.org/optimize 访问到。版权条款见168页。"
   ]
  },
  {
   "cell_type": "markdown",
   "metadata": {},
   "source": [
    "如果只需要使用高级语言来写软件，只需要阅读本手册。其它手册是为那些更进一步深入技术细节的人提供。这些技术包括\n",
    "- 指令时序\n",
    "- 汇编语言编程\n",
    "- 编译器技术\n",
    "- 微处理器之微架构\n",
    "\n",
    "如要再进一步的优化，对CPU密集型代码，可以使用汇编语言进行优化。后续的手册里有描述。\n",
    "\n",
    "请注意我的优化手册数千人使用。单单我一个人肯定没有时间回答所有人的问题。请不要向我提问程序设计问题，否则你不会收到回复的。建议初学者们先到其它地方寻求信息，获得较好的程序设计经验之后，再来尝试此手册中的技巧。如果你不能在相关的书籍和手册中找到答案，互联网上有很多论坛可以得到编程问题的解答。\n",
    "\n",
    "在此我想要感谢给我提供对本手册的纠错和建议的许多人。我也一直很欢迎读者提供此类信息。"
   ]
  },
  {
   "cell_type": "markdown",
   "metadata": {},
   "source": [
    "## 1.1 优化的代价\n",
    "\n",
    "大学里的计算机编程课程一般强调这些问题的重要性：\n",
    "- 数据结构和面向对象编程\n",
    "- 模块化\n",
    "- 重用性\n",
    "- 软件开发流程的系统化\n",
    "\n",
    "这些需求往往和优化软件的速度和大小的需求相冲突。\n",
    "\n",
    "今天，软件老师常常建议，函数或者方法不该超过太多行。然而，数十年前，建议刚刚相反：如果代码段只被调用一次，不要创建独立的子程序。这种软件编写风格转变的原因是：软件项目已经变得日趋庞大和复杂，关注的焦点切换到了软件开发的代价上，并且计算机也越来越强大。\n",
    "\n",
    "在选择编程语言和接口框架是，人们首选关注的是结构化的软件开发，程序运行效率不是那么受关注了。然而，这常常对最终用户是不利的。他们需要投资购入更强悍的计算机，才能跟上日渐臃肿的软件的需求，而且往往任然为难以接受的响应时间感到沮丧，有时哪怕是运行简单的任务。\n",
    "\n",
    "有时候，必须要对先进的软件开发原则作出折中，以使软件包更快，更小。本手册讨论如何在这些考虑之间做出合理的平衡。手册将\n",
    "- 讨论如何识别出程序中最为关键的部分，并隔离出来，再集中精力优化。\n",
    "- 讨论如何克服如下原始的编程风格的风险：不自动检查数组越界，无效指针，等等。\n",
    "- 讨论以执行时间来衡量，哪些高级的编程结构是昂贵的，哪些是低成本的\n"
   ]
  }
 ],
 "metadata": {
  "kernelspec": {
   "display_name": "C++17",
   "language": "C++",
   "name": "cling-cpp17"
  },
  "language_info": {
   "codemirror_mode": "c++",
   "file_extension": ".c++",
   "mimetype": "text/x-c++src",
   "name": "c++"
  }
 },
 "nbformat": 4,
 "nbformat_minor": 2
}
